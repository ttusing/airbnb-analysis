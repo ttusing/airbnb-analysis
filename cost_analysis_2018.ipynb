{
 "cells": [
  {
   "cell_type": "code",
   "execution_count": 1,
   "metadata": {},
   "outputs": [],
   "source": [
    "import pandas as pd\n",
    "import datetime"
   ]
  },
  {
   "cell_type": "code",
   "execution_count": 2,
   "metadata": {},
   "outputs": [],
   "source": [
    "historical_data = pd.read_csv(\"csv_import/historical-data-011019.csv\")"
   ]
  },
  {
   "cell_type": "code",
   "execution_count": 3,
   "metadata": {},
   "outputs": [
    {
     "name": "stdout",
     "output_type": "stream",
     "text": [
      "         Date         Type Confirmation Code  Start Date  Nights  \\\n",
      "0  01/10/2019       Payout               NaN         NaN     NaN   \n",
      "1  01/10/2019  Reservation        HM8AX22DEN  01/09/2019     4.0   \n",
      "2  01/10/2019  Reservation        HM5X9ETCT9  01/09/2019     3.0   \n",
      "3  01/10/2019  Reservation        HMFCTS4CMZ  01/09/2019     2.0   \n",
      "4  01/10/2019       Payout               NaN         NaN     NaN   \n",
      "\n",
      "              Guest                                            Listing  \\\n",
      "0               NaN                                                NaN   \n",
      "1     Naomi Gabizon   Earth Charter - Private Room in a Warm Community   \n",
      "2  Aki Koivistoinen  Private Suite w/ Bath, Artsy Hotel/Co-op: Suns...   \n",
      "3        Kyle Henry  Rose Garden - a Magical Bed+Bath in Warm Commu...   \n",
      "4               NaN                                                NaN   \n",
      "\n",
      "                 Details  Reference Currency  Amount  Paid Out  Host Fee  \\\n",
      "0  Transfer to *****6485        NaN      USD     NaN    823.62       NaN   \n",
      "1                    NaN        NaN      USD  390.61       NaN     12.08   \n",
      "2                    NaN        NaN      USD  284.79       NaN      8.81   \n",
      "3                    NaN        NaN      USD  148.22       NaN      4.58   \n",
      "4  Transfer to *****6485        NaN      USD     NaN     98.55       NaN   \n",
      "\n",
      "   Cleaning Fee  Linens fee  Community fee  \n",
      "0           NaN         NaN            NaN  \n",
      "1          27.9       13.95           27.9  \n",
      "2          16.0       12.00           32.0  \n",
      "3          16.0       12.00           32.0  \n",
      "4           NaN         NaN            NaN  \n"
     ]
    }
   ],
   "source": [
    "print(historical_data.head())"
   ]
  },
  {
   "cell_type": "code",
   "execution_count": 4,
   "metadata": {},
   "outputs": [
    {
     "name": "stdout",
     "output_type": "stream",
     "text": [
      "          Date         Type Confirmation Code  Start Date  Nights  \\\n",
      "86  12/31/2018       Payout               NaN         NaN     NaN   \n",
      "87  12/31/2018  Reservation        HM2SEYSSAD  12/30/2018     3.0   \n",
      "88  12/31/2018  Reservation        HM49ZEW3KT  12/30/2018     4.0   \n",
      "89  12/31/2018  Reservation        HMFF5JXEHE  12/30/2018     3.0   \n",
      "90  12/30/2018  Reservation        HM8TQXP2ST  12/29/2018     4.0   \n",
      "\n",
      "                  Guest                                            Listing  \\\n",
      "86                  NaN                                                NaN   \n",
      "87  Kathrin Bimesdörfer  Rose Garden - a Magical Bed+Bath in Warm Commu...   \n",
      "88           Amy Torres  Private Suite w/ Bath, Artsy Hotel/Co-op: Suns...   \n",
      "89       Andrea Godinez     Private Room in Historic B&B - Playground Room   \n",
      "90            Hanna Kim    Golden Gate - Private Bedroom in Warm Community   \n",
      "\n",
      "                  Details  Reference Currency  Amount  Paid Out  Host Fee  \\\n",
      "86  Transfer to *****4871        NaN      USD     NaN    365.25       NaN   \n",
      "87                    NaN        NaN      USD   62.66       NaN      1.94   \n",
      "88                    NaN        NaN      USD   75.85       NaN      2.35   \n",
      "89                    NaN        NaN      USD   52.19       NaN      1.61   \n",
      "90                    NaN        NaN      USD   71.97       NaN      2.23   \n",
      "\n",
      "    Cleaning Fee  Linens fee  Community fee  Month  Year  \n",
      "86           NaN         NaN            NaN     12  2018  \n",
      "87           4.0         3.0            8.0     12  2018  \n",
      "88           4.0         3.0            8.0     12  2018  \n",
      "89           3.0         3.0            4.0     12  2018  \n",
      "90           4.0         3.0            8.0     12  2018  \n",
      "Date                  object\n",
      "Type                  object\n",
      "Confirmation Code     object\n",
      "Start Date            object\n",
      "Nights               float64\n",
      "Guest                 object\n",
      "Listing               object\n",
      "Details               object\n",
      "Reference            float64\n",
      "Currency              object\n",
      "Amount               float64\n",
      "Paid Out             float64\n",
      "Host Fee             float64\n",
      "Cleaning Fee         float64\n",
      "Linens fee           float64\n",
      "Community fee        float64\n",
      "Month                  int64\n",
      "Year                   int64\n",
      "dtype: object\n",
      "['Payout' 'Reservation' 'Adjustment' 'Resolution Adjustment'\n",
      " 'Resolution Payout' 'Co-hosting Adjustment']\n"
     ]
    }
   ],
   "source": [
    "# Month and Year columns added for accounting purposes\n",
    "historical_data['Month'] = historical_data.Date.apply(lambda dateCol: datetime.datetime.strptime(dateCol,'%m/%d/%Y').month)\n",
    "historical_data['Year'] = historical_data.Date.apply(lambda dateCol: datetime.datetime.strptime(dateCol,'%m/%d/%Y').year)\n",
    "data = historical_data[historical_data.Year == 2018]\n",
    "\n",
    "print(data.head())\n",
    "print(data.dtypes)\n",
    "print(data.Type.unique())"
   ]
  },
  {
   "cell_type": "code",
   "execution_count": 5,
   "metadata": {},
   "outputs": [
    {
     "name": "stdout",
     "output_type": "stream",
     "text": [
      "Month\n",
      "1     16787.60\n",
      "2     22148.36\n",
      "3     30775.08\n",
      "4     28832.03\n",
      "5     32383.36\n",
      "6     36164.04\n",
      "7     43119.55\n",
      "8     57299.25\n",
      "9     63498.36\n",
      "10    54980.71\n",
      "11    34935.43\n",
      "12    42231.70\n",
      "Name: Paid Out, dtype: float64\n"
     ]
    }
   ],
   "source": [
    "# Payouts by month\n",
    "payouts = data[data.Type == 'Payout']\n",
    "print(payouts.groupby('Month')['Paid Out'].sum())"
   ]
  },
  {
   "cell_type": "code",
   "execution_count": 6,
   "metadata": {},
   "outputs": [
    {
     "name": "stdout",
     "output_type": "stream",
     "text": [
      "Month  Listing                                          \n",
      "1      Air Bunk, Peacock Room: Cozy Bed in Shared Room       197.88\n",
      "       Earth Bunk, Peacock Room: Cozy Bed in Shared Room     948.66\n",
      "       Fire Bunk, Peacock Room: Cozy Bed in Shared Room      230.86\n",
      "       Friends - Private Bedroom for 3 in Cozy Community    1874.04\n",
      "       Gigi's Room - a Private Suite in a Warm Community    2172.12\n",
      "Name: Amount, dtype: float64\n"
     ]
    }
   ],
   "source": [
    "# Gross hotel revenue by room/listing\n",
    "payouts = data[data.Type.isin(['Reservation','Adjustment'])].groupby(['Month','Listing']).Amount.sum()\n",
    "print(payouts.head())\n",
    "payouts.to_csv('csv_export/gross_data_2018.csv')"
   ]
  },
  {
   "cell_type": "code",
   "execution_count": 7,
   "metadata": {},
   "outputs": [
    {
     "name": "stdout",
     "output_type": "stream",
     "text": [
      "Month\n",
      "3     -50.00\n",
      "4    -100.00\n",
      "5     -25.00\n",
      "6    -181.64\n",
      "7    -117.59\n",
      "8    -638.92\n",
      "9     210.00\n",
      "10    171.05\n",
      "12    -80.63\n",
      "Name: Amount, dtype: float64\n"
     ]
    }
   ],
   "source": [
    "# Total unassigned resolution adjustments by month\n",
    "adjustments = data[data.Type.isin(['Resolution Adjustment','Resolution Payout'])].groupby('Month').Amount.sum()\n",
    "print(adjustments)"
   ]
  },
  {
   "cell_type": "code",
   "execution_count": 8,
   "metadata": {},
   "outputs": [
    {
     "name": "stdout",
     "output_type": "stream",
     "text": [
      "   Month  Amount\n",
      "0      3  -50.00\n",
      "1      4 -100.00\n",
      "2      5  -25.00\n",
      "3      6 -181.64\n",
      "4      7 -117.59\n",
      "   Month                                            Listing   Amount\n",
      "0      1    Air Bunk, Peacock Room: Cozy Bed in Shared Room   197.88\n",
      "1      1  Earth Bunk, Peacock Room: Cozy Bed in Shared Room   948.66\n",
      "2      1   Fire Bunk, Peacock Room: Cozy Bed in Shared Room   230.86\n",
      "3      1  Friends - Private Bedroom for 3 in Cozy Community  1874.04\n",
      "4      1  Gigi's Room - a Private Suite in a Warm Community  2172.12\n"
     ]
    }
   ],
   "source": [
    "# Amounts from payouts and adjustments\n",
    "adjustments = adjustments.reset_index()\n",
    "print(adjustments.head())\n",
    "payouts = payouts.reset_index()\n",
    "print(payouts.head())"
   ]
  },
  {
   "cell_type": "code",
   "execution_count": 9,
   "metadata": {},
   "outputs": [
    {
     "name": "stdout",
     "output_type": "stream",
     "text": [
      "    Month  Listing\n",
      "0       1       13\n",
      "1       2       17\n",
      "2       3       17\n",
      "3       4       16\n",
      "4       5       19\n",
      "5       6       20\n",
      "6       7       21\n",
      "7       8       24\n",
      "8       9       25\n",
      "9      10       27\n",
      "10     11       26\n",
      "11     12       29\n",
      "   Month  Amount  Listing  Amount Per Listing\n",
      "0      3  -50.00       17               -2.94\n",
      "1      4 -100.00       16               -6.25\n",
      "2      5  -25.00       19               -1.32\n",
      "3      6 -181.64       20               -9.08\n",
      "4      7 -117.59       21               -5.60\n",
      "5      8 -638.92       24              -26.62\n",
      "6      9  210.00       25                8.40\n",
      "7     10  171.05       27                6.34\n",
      "8     12  -80.63       29               -2.78\n",
      "   Month  Amount Per Listing\n",
      "0      3               -2.94\n",
      "1      4               -6.25\n",
      "2      5               -1.32\n",
      "3      6               -9.08\n",
      "4      7               -5.60\n",
      "5      8              -26.62\n",
      "6      9                8.40\n",
      "7     10                6.34\n",
      "8     12               -2.78\n"
     ]
    }
   ],
   "source": [
    "# Distribute unassigned resolution adjustments by month by rooms listed that month\n",
    "rooms_per_month = payouts.groupby('Month').Listing.count().reset_index()\n",
    "print(rooms_per_month)\n",
    "\n",
    "monthly_distribution = pd.merge(adjustments, rooms_per_month, on='Month')\n",
    "monthly_distribution['Amount Per Listing'] = (monthly_distribution.Amount / monthly_distribution.Listing).round(2)\n",
    "print(monthly_distribution)\n",
    "\n",
    "monthly_distribution = monthly_distribution.drop(['Amount', 'Listing'], axis=1)\n",
    "print(monthly_distribution)"
   ]
  },
  {
   "cell_type": "code",
   "execution_count": 10,
   "metadata": {},
   "outputs": [
    {
     "name": "stdout",
     "output_type": "stream",
     "text": [
      "   Month                                            Listing   Amount  \\\n",
      "0      1    Air Bunk, Peacock Room: Cozy Bed in Shared Room   197.88   \n",
      "1      1  Earth Bunk, Peacock Room: Cozy Bed in Shared Room   948.66   \n",
      "2      1   Fire Bunk, Peacock Room: Cozy Bed in Shared Room   230.86   \n",
      "3      1  Friends - Private Bedroom for 3 in Cozy Community  1874.04   \n",
      "4      1  Gigi's Room - a Private Suite in a Warm Community  2172.12   \n",
      "\n",
      "   Adjusted Amount  \n",
      "0           197.88  \n",
      "1           948.66  \n",
      "2           230.86  \n",
      "3          1874.04  \n",
      "4          2172.12  \n"
     ]
    }
   ],
   "source": [
    "# Create new data frame to hold adjustments for listings\n",
    "adjusted_payouts = pd.merge(payouts, monthly_distribution, how='left', on=['Month','Month'])\n",
    "adjusted_payouts = adjusted_payouts.fillna(0)\n",
    "adjusted_payouts['Adjusted Amount'] = adjusted_payouts.Amount + adjusted_payouts['Amount Per Listing']\n",
    "\n",
    "adjusted_payouts = adjusted_payouts.drop('Amount Per Listing', axis=1)\n",
    "print(adjusted_payouts.head())\n",
    "\n",
    "# Round amounts to 2 decimal points for dollars and cents (0.00)\n",
    "adjusted_payouts = adjusted_payouts.round(2)\n",
    "\n",
    "# Save adjusted payouts to new csv file\n",
    "adjusted_payouts.to_csv('csv_export/adjusted_payouts_2018.csv')"
   ]
  }
 ],
 "metadata": {
  "kernelspec": {
   "display_name": "Python 2",
   "language": "python",
   "name": "python2"
  },
  "language_info": {
   "codemirror_mode": {
    "name": "ipython",
    "version": 2
   },
   "file_extension": ".py",
   "mimetype": "text/x-python",
   "name": "python",
   "nbconvert_exporter": "python",
   "pygments_lexer": "ipython2",
   "version": "2.7.15"
  }
 },
 "nbformat": 4,
 "nbformat_minor": 2
}
