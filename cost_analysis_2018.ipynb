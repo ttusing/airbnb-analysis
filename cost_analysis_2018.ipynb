{
 "cells": [
  {
   "cell_type": "code",
   "execution_count": 33,
   "metadata": {},
   "outputs": [],
   "source": [
    "import pandas as pd\n",
    "import numpy as np\n",
    "import datetime"
   ]
  },
  {
   "cell_type": "code",
   "execution_count": 2,
   "metadata": {},
   "outputs": [],
   "source": [
    "historical_data = pd.read_csv(\"csv_import/historical-data-020419.csv\")\n",
    "room_crosswalk= pd.read_csv(\"csv_import/listing_name_crosswalk.csv\")"
   ]
  },
  {
   "cell_type": "code",
   "execution_count": 3,
   "metadata": {},
   "outputs": [
    {
     "name": "stdout",
     "output_type": "stream",
     "text": [
      "         Date         Type Confirmation Code  Start Date  Nights  \\\n",
      "0  02/04/2019       Payout               NaN         NaN     NaN   \n",
      "1  02/04/2019  Reservation        HM8K2FNHDC  02/03/2019     9.0   \n",
      "2  02/04/2019  Reservation        HM252EWF25  02/03/2019     4.0   \n",
      "3  02/04/2019  Reservation        HMWPCM28WM  02/03/2019     5.0   \n",
      "4  02/03/2019  Reservation        HM5MQNY4EW  02/02/2019     4.0   \n",
      "\n",
      "                Guest                                           Listing  \\\n",
      "0                 NaN                                               NaN   \n",
      "1         Amanda Long     Red Victorian - Private room w bath, Sunshine   \n",
      "2         Duni Naciri     Red Victorian - Private suite w/bath, Redwood   \n",
      "3  Frantisek Simancik          Red Victorian - Private room, Peace Room   \n",
      "4     Israel Michetti  Red Victorian - Private room w/sink, Golden Gate   \n",
      "\n",
      "                 Details  Reference Currency  Amount  Paid Out  Host Fee  \\\n",
      "0  Transfer to *****4871        NaN      USD     NaN    539.16       NaN   \n",
      "1                    NaN        NaN      USD  167.07       NaN      5.17   \n",
      "2                    NaN        NaN      USD  102.58       NaN      3.17   \n",
      "3                    NaN        NaN      USD   79.54       NaN      2.46   \n",
      "4                    NaN        NaN      USD   89.48       NaN      2.77   \n",
      "\n",
      "   Cleaning Fee  Linens fee  Community fee  \n",
      "0           NaN         NaN            NaN  \n",
      "1           4.0        3.00           9.78  \n",
      "2           5.0        3.75          10.00  \n",
      "3           7.0        4.00           7.00  \n",
      "4           5.0        3.75          10.00  \n"
     ]
    }
   ],
   "source": [
    "print(historical_data.head())"
   ]
  },
  {
   "cell_type": "code",
   "execution_count": 72,
   "metadata": {
    "scrolled": true
   },
   "outputs": [
    {
     "name": "stdout",
     "output_type": "stream",
     "text": [
      "          Date         Type Confirmation Code  Start Date  Nights  \\\n",
      "18  01/15/2019  Reservation        HMHBFTP95R  01/14/2019    22.0   \n",
      "38  01/31/2019       Payout               NaN         NaN     NaN   \n",
      "39  01/31/2019  Reservation        HMHDNMQHEN  01/30/2019     6.0   \n",
      "40  01/31/2019  Reservation        HM4N5T54YQ  01/30/2019     7.0   \n",
      "41  01/31/2019       Payout               NaN         NaN     NaN   \n",
      "\n",
      "                  Guest                                            Listing  \\\n",
      "18        Jamie Wilbert  Red Victorian - Private room w loftbed, Butterfly   \n",
      "38                  NaN                                                NaN   \n",
      "39          Jill Brophy  Red Victorian - Private suite w bath, Flower C...   \n",
      "40  Ben Christoph Maass       Red Victorian - Private room -  Rainbow Room   \n",
      "41                  NaN                                                NaN   \n",
      "\n",
      "                  Details  Reference Currency      ...       Host Fee  \\\n",
      "18                    NaN        NaN      USD      ...           1.91   \n",
      "38  Transfer to *****7750        NaN      USD      ...            NaN   \n",
      "39                    NaN        NaN      USD      ...           1.64   \n",
      "40                    NaN        NaN      USD      ...           3.11   \n",
      "41  Transfer to *****4871        NaN      USD      ...            NaN   \n",
      "\n",
      "    Cleaning Fee  Linens fee  Community fee  listing-name_x   room-name_x  \\\n",
      "18          2.41         NaN            NaN       Butterfly     Butterfly   \n",
      "38           NaN         NaN            NaN             NaN           NaN   \n",
      "39          3.00         1.5           2.93    Flower Child  Flower Child   \n",
      "40          4.00         3.0           8.00    Rainbow Room  Rainbow Room   \n",
      "41           NaN         NaN            NaN             NaN           NaN   \n",
      "\n",
      "   Month  Year  listing-name_y   room-name_y  \n",
      "18     1  2019       Butterfly     Butterfly  \n",
      "38     1  2019             NaN           NaN  \n",
      "39     1  2019    Flower Child  Flower Child  \n",
      "40     1  2019    Rainbow Room  Rainbow Room  \n",
      "41     1  2019             NaN           NaN  \n",
      "\n",
      "[5 rows x 22 columns]\n",
      "Date                  object\n",
      "Type                  object\n",
      "Confirmation Code     object\n",
      "Start Date            object\n",
      "Nights               float64\n",
      "Guest                 object\n",
      "Listing               object\n",
      "Details               object\n",
      "Reference            float64\n",
      "Currency              object\n",
      "Amount               float64\n",
      "Paid Out             float64\n",
      "Host Fee             float64\n",
      "Cleaning Fee         float64\n",
      "Linens fee           float64\n",
      "Community fee        float64\n",
      "listing-name_x        object\n",
      "room-name_x           object\n",
      "Month                  int64\n",
      "Year                   int64\n",
      "listing-name_y        object\n",
      "room-name_y           object\n",
      "dtype: object\n",
      "['Reservation' 'Payout' 'Resolution Adjustment' 'Adjustment'\n",
      " 'Resolution Payout']\n"
     ]
    },
    {
     "name": "stderr",
     "output_type": "stream",
     "text": [
      "/Users/tt/.envs/jupyter-kX504egw/lib/python3.6/site-packages/ipykernel_launcher.py:7: UserWarning: Boolean Series key will be reindexed to match DataFrame index.\n",
      "  import sys\n"
     ]
    }
   ],
   "source": [
    "# Add in room names\n",
    "historical_data=historical_data.merge(room_crosswalk, how='left', on='Listing')\n",
    "\n",
    "# Month and Year columns added for accounting purposes\n",
    "historical_data['Month'] = historical_data.Date.apply(lambda dateCol: datetime.datetime.strptime(dateCol,'%m/%d/%Y').month)\n",
    "historical_data['Year'] = historical_data.Date.apply(lambda dateCol: datetime.datetime.strptime(dateCol,'%m/%d/%Y').year)\n",
    "data = historical_data[historical_data.Year == 2019][historical_data.Month == 1]\n",
    "\n",
    "print(data.head())\n",
    "print(data.dtypes)\n",
    "print(data.Type.unique())"
   ]
  },
  {
   "cell_type": "code",
   "execution_count": 73,
   "metadata": {},
   "outputs": [
    {
     "name": "stdout",
     "output_type": "stream",
     "text": [
      "Month\n",
      "1    46617.88\n",
      "Name: Paid Out, dtype: float64\n"
     ]
    }
   ],
   "source": [
    "# Total paid out by month\n",
    "total = data[data.Type == 'Payout']\n",
    "print(total.groupby('Month')['Paid Out'].sum())"
   ]
  },
  {
   "cell_type": "code",
   "execution_count": 93,
   "metadata": {},
   "outputs": [
    {
     "name": "stdout",
     "output_type": "stream",
     "text": [
      "Month        int64\n",
      "Listing     object\n",
      "Amount     float64\n",
      "dtype: object\n",
      "   Month                                            Listing  Amount\n",
      "0      1    Red Victorian - Air Bunk in shared Peacock Room  938.28\n",
      "1      1        Red Victorian - Bed  in shared Friends Room  408.57\n",
      "2      1  Red Victorian - Bunk #1 in shared Hole in the ...  238.62\n",
      "3      1      Red Victorian - Bunk #1 in shared Poster Room  757.18\n",
      "4      1  Red Victorian - Bunk #2 in shared Hole in the ...  569.20\n"
     ]
    }
   ],
   "source": [
    "# Gross hotel revenue by listing\n",
    "payouts = data[data.Type.isin(['Reservation','Adjustment'])].groupby(['Month','Listing']).agg({\"Amount\":np.sum}).reset_index()\n",
    "print(payouts.dtypes)\n",
    "print(payouts.head())\n",
    "payouts.to_csv('csv_export/gross_data_2019.csv')"
   ]
  },
  {
   "cell_type": "code",
   "execution_count": 34,
   "metadata": {},
   "outputs": [
    {
     "name": "stdout",
     "output_type": "stream",
     "text": [
      "       Amount\n",
      "Month        \n",
      "1     -283.33\n"
     ]
    }
   ],
   "source": [
    "# Total unassigned resolution adjustments by month\n",
    "adjustments = data[data.Type.isin(['Resolution Adjustment','Resolution Payout'])].groupby('Month').agg({\"Amount\": np.sum})\n",
    "print(adjustments)"
   ]
  },
  {
   "cell_type": "code",
   "execution_count": 37,
   "metadata": {},
   "outputs": [
    {
     "name": "stdout",
     "output_type": "stream",
     "text": [
      "       Listing\n",
      "Month         \n",
      "1         32.0\n",
      "       Amount  Listing  Amount Per Listing\n",
      "Month                                     \n",
      "1     -283.33     32.0               -8.85\n",
      "       Amount Per Listing\n",
      "Month                    \n",
      "1                   -8.85\n"
     ]
    },
    {
     "name": "stderr",
     "output_type": "stream",
     "text": [
      "/Users/tt/.envs/jupyter-kX504egw/lib/python3.6/site-packages/ipykernel_launcher.py:2: FutureWarning: using a dict on a Series for aggregation\n",
      "is deprecated and will be removed in a future version\n",
      "  \n"
     ]
    }
   ],
   "source": [
    "# Distribute unassigned resolution adjustments by month by rooms listed that month\n",
    "rooms_per_month = payouts.groupby('Month').agg({\"Listing\": pd.Series.nunique})\n",
    "print(rooms_per_month)\n",
    "\n",
    "type(rooms_per_month)\n",
    "\n",
    "monthly_distribution = pd.merge(adjustments, rooms_per_month, on='Month')\n",
    "monthly_distribution['Amount Per Listing'] = (monthly_distribution.Amount / monthly_distribution.Listing).round(2)\n",
    "print(monthly_distribution)\n",
    "\n",
    "monthly_distribution = monthly_distribution.drop(['Amount', 'Listing'], axis=1)\n",
    "print(monthly_distribution)"
   ]
  },
  {
   "cell_type": "code",
   "execution_count": 65,
   "metadata": {
    "scrolled": true
   },
   "outputs": [
    {
     "name": "stdout",
     "output_type": "stream",
     "text": [
      "                                                           Amount\n",
      "Month Listing                                                    \n",
      "1     Red Victorian - Air Bunk in shared Peacock Room      938.28\n",
      "      Red Victorian - Bed  in shared Friends Room          408.57\n",
      "      Red Victorian - Bunk #1 in shared Hole in the Wall   238.62\n",
      "      Red Victorian - Bunk #1 in shared Poster Room        757.18\n",
      "      Red Victorian - Bunk #2 in shared Hole in the Wall   569.20\n",
      "      Red Victorian - Bunk #2 in shared Hula Hoop Room     442.65\n",
      "      Red Victorian - Bunk #2 in shared Poster Room        813.61\n",
      "      Red Victorian - Bunk #3 in shared Poster Room       1075.24\n",
      "      Red Victorian - Bunk #4 in shared Poster Room        728.31\n",
      "      Red Victorian - Bunk#1 in shared Hula Hoop Room     1206.68\n",
      "      Red Victorian - Earth Bunk in shared Peacock Room    887.05\n",
      "      Red Victorian - Fire Bunk in shared Peacock Room    1171.49\n",
      "      Red Victorian - Private ensuite, Rose Garden        3505.58\n",
      "      Red Victorian - Private room -  Rainbow Room        2913.53\n",
      "      Red Victorian - Private room 1/2 bath, Night Duty   2246.33\n",
      "      Red Victorian - Private room for 3, Friends Room    1255.18\n",
      "      Red Victorian - Private room w bath, Sunshine       2900.30\n",
      "      Red Victorian - Private room w loftbed, Butterfly   1631.54\n",
      "      Red Victorian - Private room w/4 beds, Poster Room   982.61\n",
      "      Red Victorian - Private room w/sink, Golden Gate    1900.87\n",
      "      Red Victorian - Private room w/sink, Tea Garden     1965.13\n",
      "      Red Victorian - Private room, Earth Charter         2111.98\n",
      "      Red Victorian - Private room, Hole in the Wall       781.24\n",
      "      Red Victorian - Private room, Peace Room            1324.94\n",
      "      Red Victorian - Private room, Playground            1753.18\n",
      "      Red Victorian - Private room, Skylight              2641.65\n",
      "      Red Victorian - Private suite w bath, Flower Child  3006.52\n",
      "      Red Victorian - Private suite w/bath, Gigi's        2255.25\n",
      "      Red Victorian - Private suite w/bath, Redwood       2838.87\n",
      "      Red Victorian - Twin Bunks in shared Friends Room    613.04\n",
      "      Red Victorian - Two beds in shared Hula Hoop Room    177.51\n",
      "      Red Victorian - Water Bunk in shared Peacock Room    920.99\n"
     ]
    }
   ],
   "source": [
    "print(payouts)"
   ]
  },
  {
   "cell_type": "code",
   "execution_count": 103,
   "metadata": {},
   "outputs": [
    {
     "name": "stdout",
     "output_type": "stream",
     "text": [
      "['Month' 'Listing' 'Amount']\n"
     ]
    }
   ],
   "source": [
    "# Create new data frame to hold adjustments for listings\n",
    "adjusted_payouts = payouts.merge(monthly_distribution, how='left', on='Month')\n",
    "adjusted_payouts = adjusted_payouts.fillna(0)\n",
    "adjusted_payouts['Adjusted Amount'] = adjusted_payouts.Amount + adjusted_payouts['Amount Per Listing']\n",
    "\n",
    "adjusted_payouts = adjusted_payouts.drop('Amount Per Listing', axis=1)\n",
    "print(payouts.columns.values)\n",
    "\n",
    "# Round amounts to 2 decimal points for dollars and cents (0.00)\n",
    "adjusted_payouts = adjusted_payouts.round(2)\n",
    "\n",
    "# Sum by Room\n",
    "adjusted_payouts_by_room=adjusted_payouts.merge(room_crosswalk, how=\"left\", on=\"Listing\")\n",
    "adjusted_payouts_by_room=adjusted_payouts_by_room.groupby(\"room-name\").agg({\"Amount\":np.sum}).reset_index()\n",
    "adjusted_payouts_by_room=adjusted_payouts_by_room.round(2)\n",
    "# Save adjusted payouts to new csv file\n",
    "adjusted_payouts_by_room.to_csv('csv_export/adjusted_payouts_2019.csv')"
   ]
  }
 ],
 "metadata": {
  "kernelspec": {
   "display_name": "Python 3",
   "language": "python",
   "name": "python3"
  },
  "language_info": {
   "codemirror_mode": {
    "name": "ipython",
    "version": 3
   },
   "file_extension": ".py",
   "mimetype": "text/x-python",
   "name": "python",
   "nbconvert_exporter": "python",
   "pygments_lexer": "ipython3",
   "version": "3.6.3"
  }
 },
 "nbformat": 4,
 "nbformat_minor": 2
}
