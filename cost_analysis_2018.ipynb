{
 "cells": [
  {
   "cell_type": "code",
   "execution_count": 2,
   "metadata": {},
   "outputs": [],
   "source": [
    "import pandas as pd\n",
    "import datetime"
   ]
  },
  {
   "cell_type": "code",
   "execution_count": 3,
   "metadata": {},
   "outputs": [],
   "source": [
    "historical_data = pd.read_csv(\"csv_import/historical-data-011019.csv\")"
   ]
  },
  {
   "cell_type": "code",
   "execution_count": 4,
   "metadata": {},
   "outputs": [
    {
     "name": "stdout",
     "output_type": "stream",
     "text": [
      "         Date         Type Confirmation Code  Start Date  Nights  \\\n",
      "0  01/10/2019       Payout               NaN         NaN     NaN   \n",
      "1  01/10/2019  Reservation        HM8AX22DEN  01/09/2019     4.0   \n",
      "2  01/10/2019  Reservation        HM5X9ETCT9  01/09/2019     3.0   \n",
      "3  01/10/2019  Reservation        HMFCTS4CMZ  01/09/2019     2.0   \n",
      "4  01/10/2019       Payout               NaN         NaN     NaN   \n",
      "\n",
      "              Guest                                            Listing  \\\n",
      "0               NaN                                                NaN   \n",
      "1     Naomi Gabizon   Earth Charter - Private Room in a Warm Community   \n",
      "2  Aki Koivistoinen  Private Suite w/ Bath, Artsy Hotel/Co-op: Suns...   \n",
      "3        Kyle Henry  Rose Garden - a Magical Bed+Bath in Warm Commu...   \n",
      "4               NaN                                                NaN   \n",
      "\n",
      "                 Details  Reference Currency  Amount  Paid Out  Host Fee  \\\n",
      "0  Transfer to *****6485        NaN      USD     NaN    823.62       NaN   \n",
      "1                    NaN        NaN      USD  390.61       NaN     12.08   \n",
      "2                    NaN        NaN      USD  284.79       NaN      8.81   \n",
      "3                    NaN        NaN      USD  148.22       NaN      4.58   \n",
      "4  Transfer to *****6485        NaN      USD     NaN     98.55       NaN   \n",
      "\n",
      "   Cleaning Fee  Linens fee  Community fee  \n",
      "0           NaN         NaN            NaN  \n",
      "1          27.9       13.95           27.9  \n",
      "2          16.0       12.00           32.0  \n",
      "3          16.0       12.00           32.0  \n",
      "4           NaN         NaN            NaN  \n"
     ]
    }
   ],
   "source": [
    "print(historical_data.head())"
   ]
  },
  {
   "cell_type": "code",
   "execution_count": 5,
   "metadata": {},
   "outputs": [
    {
     "name": "stdout",
     "output_type": "stream",
     "text": [
      "          Date         Type Confirmation Code  Start Date  Nights  \\\n",
      "86  12/31/2018       Payout               NaN         NaN     NaN   \n",
      "87  12/31/2018  Reservation        HM2SEYSSAD  12/30/2018     3.0   \n",
      "88  12/31/2018  Reservation        HM49ZEW3KT  12/30/2018     4.0   \n",
      "89  12/31/2018  Reservation        HMFF5JXEHE  12/30/2018     3.0   \n",
      "90  12/30/2018  Reservation        HM8TQXP2ST  12/29/2018     4.0   \n",
      "\n",
      "                  Guest                                            Listing  \\\n",
      "86                  NaN                                                NaN   \n",
      "87  Kathrin Bimesdörfer  Rose Garden - a Magical Bed+Bath in Warm Commu...   \n",
      "88           Amy Torres  Private Suite w/ Bath, Artsy Hotel/Co-op: Suns...   \n",
      "89       Andrea Godinez     Private Room in Historic B&B - Playground Room   \n",
      "90            Hanna Kim    Golden Gate - Private Bedroom in Warm Community   \n",
      "\n",
      "                  Details  Reference Currency  Amount  Paid Out  Host Fee  \\\n",
      "86  Transfer to *****4871        NaN      USD     NaN    365.25       NaN   \n",
      "87                    NaN        NaN      USD   62.66       NaN      1.94   \n",
      "88                    NaN        NaN      USD   75.85       NaN      2.35   \n",
      "89                    NaN        NaN      USD   52.19       NaN      1.61   \n",
      "90                    NaN        NaN      USD   71.97       NaN      2.23   \n",
      "\n",
      "    Cleaning Fee  Linens fee  Community fee  Month  Year  \n",
      "86           NaN         NaN            NaN     12  2018  \n",
      "87           4.0         3.0            8.0     12  2018  \n",
      "88           4.0         3.0            8.0     12  2018  \n",
      "89           3.0         3.0            4.0     12  2018  \n",
      "90           4.0         3.0            8.0     12  2018  \n",
      "Date                  object\n",
      "Type                  object\n",
      "Confirmation Code     object\n",
      "Start Date            object\n",
      "Nights               float64\n",
      "Guest                 object\n",
      "Listing               object\n",
      "Details               object\n",
      "Reference            float64\n",
      "Currency              object\n",
      "Amount               float64\n",
      "Paid Out             float64\n",
      "Host Fee             float64\n",
      "Cleaning Fee         float64\n",
      "Linens fee           float64\n",
      "Community fee        float64\n",
      "Month                  int64\n",
      "Year                   int64\n",
      "dtype: object\n",
      "['Payout' 'Reservation' 'Adjustment' 'Resolution Adjustment'\n",
      " 'Resolution Payout' 'Co-hosting Adjustment']\n"
     ]
    }
   ],
   "source": [
    "# Month and Year columns added for accounting purposes\n",
    "historical_data['Month'] = historical_data['Date'].apply(lambda dateCol: datetime.datetime.strptime(dateCol,'%m/%d/%Y').month)\n",
    "historical_data['Year'] = historical_data['Date'].apply(lambda dateCol: datetime.datetime.strptime(dateCol,'%m/%d/%Y').year)\n",
    "data_2018 = historical_data[historical_data['Year'] == 2018]\n",
    "\n",
    "print(data_2018.head())\n",
    "print(data_2018.dtypes)\n",
    "print(data_2018['Type'].unique())"
   ]
  },
  {
   "cell_type": "code",
   "execution_count": 6,
   "metadata": {},
   "outputs": [
    {
     "name": "stdout",
     "output_type": "stream",
     "text": [
      "Month\n",
      "1     16787.60\n",
      "2     22148.36\n",
      "3     30775.08\n",
      "4     28832.03\n",
      "5     32383.36\n",
      "6     36164.04\n",
      "7     43119.55\n",
      "8     57299.25\n",
      "9     63498.36\n",
      "10    54980.71\n",
      "11    34935.43\n",
      "12    42231.70\n",
      "Name: Paid Out, dtype: float64\n"
     ]
    }
   ],
   "source": [
    "# Payouts by month\n",
    "payouts = data_2018[data_2018['Type'] == 'Payout']\n",
    "print(payouts.groupby(['Month'])['Paid Out'].sum())"
   ]
  },
  {
   "cell_type": "code",
   "execution_count": 12,
   "metadata": {},
   "outputs": [
    {
     "name": "stdout",
     "output_type": "stream",
     "text": [
      "Month  Listing                                          \n",
      "1      Air Bunk, Peacock Room: Cozy Bed in Shared Room       197.88\n",
      "       Earth Bunk, Peacock Room: Cozy Bed in Shared Room     948.66\n",
      "       Fire Bunk, Peacock Room: Cozy Bed in Shared Room      230.86\n",
      "       Friends - Private Bedroom for 3 in Cozy Community    1874.04\n",
      "       Gigi's Room - a Private Suite in a Warm Community    2172.12\n",
      "Name: Amount, dtype: float64\n"
     ]
    }
   ],
   "source": [
    "# Gross hotel revenue by room/listing\n",
    "payouts = data_2018[data_2018.Type.isin(['Reservation','Adjustment'])].groupby(['Month','Listing'])['Amount'].sum()\n",
    "print(payouts.head())\n",
    "payouts.to_csv('csv_export/gross_data_2018.csv')"
   ]
  },
  {
   "cell_type": "code",
   "execution_count": 13,
   "metadata": {},
   "outputs": [
    {
     "name": "stdout",
     "output_type": "stream",
     "text": [
      "Month\n",
      "3     -50.00\n",
      "4    -100.00\n",
      "5     -25.00\n",
      "6    -181.64\n",
      "7    -117.59\n",
      "8    -638.92\n",
      "9     210.00\n",
      "10    171.05\n",
      "12    -80.63\n",
      "Name: Amount, dtype: float64\n"
     ]
    }
   ],
   "source": [
    "# Total unassigned resolution adjustments by month\n",
    "adjustments = data_2018[data_2018.Type.isin(['Resolution Adjustment','Resolution Payout'])].groupby(['Month'])['Amount'].sum()\n",
    "print(adjustments)"
   ]
  },
  {
   "cell_type": "code",
   "execution_count": 35,
   "metadata": {},
   "outputs": [
    {
     "name": "stdout",
     "output_type": "stream",
     "text": [
      "[nan 'Rose Garden - a Magical Bed+Bath in Warm Community'\n",
      " 'Private Suite w/ Bath, Artsy Hotel/Co-op: Sunshine'\n",
      " 'Private Room in Historic B&B - Playground Room'\n",
      " 'Golden Gate - Private Bedroom in Warm Community'\n",
      " 'Private Room in Historic B&B - Peace Room'\n",
      " 'Private Room in Historic B&B - Skylight Room'\n",
      " 'Flower Child - Private Room with Bathroom'\n",
      " 'Bunk #4, Poster Room: Comfy Bed in Shared Room'\n",
      " 'Water Bunk, Peacock Room: Cozy Bed in Shared Room'\n",
      " 'Bunk #2, Poster Room: Comfy Bed in Shared Room'\n",
      " 'Earth Charter - Private Room in a Warm Community'\n",
      " \"Gigi's Room - a Private Suite in a Warm Community\"\n",
      " 'Rainbow Room - Private Bedroom in a Warm Community'\n",
      " 'Cozy lofted room in arts hostel - Butterfly Room'\n",
      " 'Hole in the Wall: a cozy room in historic hotel'\n",
      " 'Friends - Private Bedroom for 3 in Cozy Community'\n",
      " 'Air Bunk, Peacock Room: Cozy Bed in Shared Room'\n",
      " 'Fire Bunk, Peacock Room: Cozy Bed in Shared Room'\n",
      " 'Bunk #1, Poster Room: Comfy Bed in Shared Room'\n",
      " 'Earth Bunk, Peacock Room: Cozy Bed in Shared Room'\n",
      " 'Bunk #3, Poster Room: Comfy Bed in Shared Room'\n",
      " 'Tea Garden - a Private Room in a Warm Community'\n",
      " 'Hula Hoop - Shared Room in a Warm Community'\n",
      " 'Redwood Forest: Private Room+Bath in Warm Co-op'\n",
      " 'Bed #2, Hole in the Wall: Comfy Bed in Shared Room'\n",
      " 'Bed #1, Hula Hoop Hostel: Cozy Bed in Shared Room'\n",
      " 'Shared Hostel Room in Warm Co-op: Friends Bunks'\n",
      " \"Iconic Red Victorian: Shared 'Friends' Hostel Room\"\n",
      " 'Bed #2, Hula Hoop Hostel: Cozy Bed in Shared Room'\n",
      " 'Poster Room: a cozy bunked space in warm community'\n",
      " 'Summer of Love - Private Room in a Warm Community'\n",
      " 'Peacock Suite: Cozy bunked room in warm community']\n",
      "Month\n",
      "1     [Earth Bunk, Peacock Room: Cozy Bed in Shared ...\n",
      "2     [nan, Poster Room: a cozy bunked space in warm...\n",
      "3     [nan, Fire Bunk, Peacock Room: Cozy Bed in Sha...\n",
      "4     [Fire Bunk, Peacock Room: Cozy Bed in Shared R...\n",
      "5     [Water Bunk, Peacock Room: Cozy Bed in Shared ...\n",
      "6     [Summer of Love - Private Room in a Warm Commu...\n",
      "7     [Flower Child - Private Room with Bathroom, Bu...\n",
      "8     [Earth Charter - Private Room in a Warm Commun...\n",
      "9     [Golden Gate - Private Bedroom in Warm Communi...\n",
      "10    [nan, Private Suite w/ Bath, Artsy Hotel/Co-op...\n",
      "11    [Private Room in Historic B&B - Playground Roo...\n",
      "12    [nan, Rose Garden - a Magical Bed+Bath in Warm...\n",
      "Name: Listing, dtype: object\n"
     ]
    }
   ],
   "source": [
    "# Listings in 2018\n",
    "print(data_2018['Listing'].unique())\n",
    "\n",
    "# Listings by month\n",
    "rooms = data_2018.groupby(['Month'])['Listing'].unique()\n",
    "print(rooms)"
   ]
  }
 ],
 "metadata": {
  "kernelspec": {
   "display_name": "Python 2",
   "language": "python",
   "name": "python2"
  },
  "language_info": {
   "codemirror_mode": {
    "name": "ipython",
    "version": 2
   },
   "file_extension": ".py",
   "mimetype": "text/x-python",
   "name": "python",
   "nbconvert_exporter": "python",
   "pygments_lexer": "ipython2",
   "version": "2.7.15"
  }
 },
 "nbformat": 4,
 "nbformat_minor": 2
}
