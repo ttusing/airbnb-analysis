{
 "cells": [
  {
   "cell_type": "code",
   "execution_count": 1,
   "metadata": {},
   "outputs": [],
   "source": [
    "import pandas as pd\n",
    "import hashlib"
   ]
  },
  {
   "cell_type": "code",
   "execution_count": 2,
   "metadata": {},
   "outputs": [],
   "source": [
    "historical_data = pd.read_csv(\"csv_raw/historical_data_3_2019.csv\")"
   ]
  },
  {
   "cell_type": "code",
   "execution_count": 3,
   "metadata": {},
   "outputs": [],
   "source": [
    "def hashName(name):\n",
    "    if pd.isna(name):\n",
    "        return ''\n",
    "    else:\n",
    "        return(hashlib.sha256(name).hexdigest())\n",
    "\n",
    "historical_data[\"guest_name_sha256\"]=historical_data[\"Guest\"].apply(hashName)\n",
    "historical_data\n",
    "historical_data.drop(\"Guest\", axis=1).to_csv(\"./csv_processed/hashed_data.csv\")"
   ]
  }
 ],
 "metadata": {
  "kernelspec": {
   "display_name": "Python 2",
   "language": "python",
   "name": "python2"
  },
  "language_info": {
   "codemirror_mode": {
    "name": "ipython",
    "version": 2
   },
   "file_extension": ".py",
   "mimetype": "text/x-python",
   "name": "python",
   "nbconvert_exporter": "python",
   "pygments_lexer": "ipython2",
   "version": "2.7.10"
  }
 },
 "nbformat": 4,
 "nbformat_minor": 2
}
