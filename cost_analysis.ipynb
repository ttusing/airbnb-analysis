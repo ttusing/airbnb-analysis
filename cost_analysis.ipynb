{
 "cells": [
  {
   "cell_type": "code",
   "execution_count": 1,
   "metadata": {},
   "outputs": [],
   "source": [
    "import numpy as np\n",
    "import pandas as pd\n",
    "import datetime"
   ]
  },
  {
   "cell_type": "code",
   "execution_count": 19,
   "metadata": {},
   "outputs": [
    {
     "name": "stdout",
     "output_type": "stream",
     "text": [
      "          Date         Type Confirmation Code  Start Date  Nights  \\\n",
      "86  12/31/2018       Payout               NaN         NaN     NaN   \n",
      "87  12/31/2018  Reservation        HM2SEYSSAD  12/30/2018     3.0   \n",
      "88  12/31/2018  Reservation        HM49ZEW3KT  12/30/2018     4.0   \n",
      "89  12/31/2018  Reservation        HMFF5JXEHE  12/30/2018     3.0   \n",
      "90  12/30/2018  Reservation        HM8TQXP2ST  12/29/2018     4.0   \n",
      "\n",
      "                  Guest                                            Listing  \\\n",
      "86                  NaN                                                NaN   \n",
      "87  Kathrin Bimesdörfer  Rose Garden - a Magical Bed+Bath in Warm Commu...   \n",
      "88           Amy Torres  Private Suite w/ Bath, Artsy Hotel/Co-op: Suns...   \n",
      "89       Andrea Godinez     Private Room in Historic B&B - Playground Room   \n",
      "90            Hanna Kim    Golden Gate - Private Bedroom in Warm Community   \n",
      "\n",
      "                  Details  Reference Currency  Amount  Paid Out  Host Fee  \\\n",
      "86  Transfer to *****4871        NaN      USD     NaN    365.25       NaN   \n",
      "87                    NaN        NaN      USD   62.66       NaN      1.94   \n",
      "88                    NaN        NaN      USD   75.85       NaN      2.35   \n",
      "89                    NaN        NaN      USD   52.19       NaN      1.61   \n",
      "90                    NaN        NaN      USD   71.97       NaN      2.23   \n",
      "\n",
      "    Cleaning Fee  Linens fee  Community fee  Month  Year  \n",
      "86           NaN         NaN            NaN     12  2018  \n",
      "87           4.0         3.0            8.0     12  2018  \n",
      "88           4.0         3.0            8.0     12  2018  \n",
      "89           3.0         3.0            4.0     12  2018  \n",
      "90           4.0         3.0            8.0     12  2018  \n",
      "Date                  object\n",
      "Type                  object\n",
      "Confirmation Code     object\n",
      "Start Date            object\n",
      "Nights               float64\n",
      "Guest                 object\n",
      "Listing               object\n",
      "Details               object\n",
      "Reference            float64\n",
      "Currency              object\n",
      "Amount               float64\n",
      "Paid Out             float64\n",
      "Host Fee             float64\n",
      "Cleaning Fee         float64\n",
      "Linens fee           float64\n",
      "Community fee        float64\n",
      "Month                  int64\n",
      "Year                   int64\n",
      "dtype: object\n",
      "['Payout' 'Reservation' 'Adjustment' 'Resolution Adjustment'\n",
      " 'Resolution Payout' 'Co-hosting Adjustment']\n"
     ]
    }
   ],
   "source": [
    "##read in data and inspect it\n",
    "## data from https://www.airbnb.com/users/transaction_history/\n",
    "historical_data=pd.read_csv(\"csv_import/historical-data-011019.csv\")\n",
    "\n",
    "## add date labels for accounting purposes\n",
    "def toMonth(dateCol):\n",
    "    return datetime.datetime.strptime(dateCol,'%m/%d/%Y').month\n",
    "def toYear(dateCol):\n",
    "    return datetime.datetime.strptime(dateCol,'%m/%d/%Y').year\n",
    "historical_data['Month']=historical_data['Date'].apply(toMonth)\n",
    "historical_data['Year']=historical_data['Date'].apply(toYear)\n",
    "data=historical_data[historical_data['Year']==2018]\n",
    "\n",
    "print(data.head())\n",
    "print(data.dtypes)\n",
    "print(data['Type'].unique())"
   ]
  },
  {
   "cell_type": "code",
   "execution_count": 21,
   "metadata": {},
   "outputs": [
    {
     "name": "stdout",
     "output_type": "stream",
     "text": [
      "Month\n",
      "1     16787.60\n",
      "2     22148.36\n",
      "3     30775.08\n",
      "4     28832.03\n",
      "5     32383.36\n",
      "6     36164.04\n",
      "7     43119.55\n",
      "8     57299.25\n",
      "9     63498.36\n",
      "10    54980.71\n",
      "11    34935.43\n",
      "12    42231.70\n",
      "Name: Paid Out, dtype: float64\n"
     ]
    }
   ],
   "source": [
    "## Payouts by month\n",
    "\n",
    "payouts=data[data['Type']=='Payout']\n",
    "\n",
    "print(payouts.groupby(['Month'])['Paid Out'].sum())"
   ]
  },
  {
   "cell_type": "code",
   "execution_count": 47,
   "metadata": {},
   "outputs": [
    {
     "name": "stdout",
     "output_type": "stream",
     "text": [
      "Month  Listing                                          \n",
      "1      Air Bunk, Peacock Room: Cozy Bed in Shared Room       197.88\n",
      "       Earth Bunk, Peacock Room: Cozy Bed in Shared Room     948.66\n",
      "       Fire Bunk, Peacock Room: Cozy Bed in Shared Room      230.86\n",
      "       Friends - Private Bedroom for 3 in Cozy Community    1874.04\n",
      "       Gigi's Room - a Private Suite in a Warm Community    2172.12\n",
      "Name: Amount, dtype: float64\n"
     ]
    }
   ],
   "source": [
    "#Gross hotel revenue by room/listing\n",
    "payouts=data.query(\"\"\"Type in('Reservation','Adjustment')\"\"\").groupby(['Month','Listing'])['Amount'].sum()\n",
    "print(payouts.head())\n",
    "payouts.to_csv('csv_export/2018_gross_data.csv')"
   ]
  },
  {
   "cell_type": "code",
   "execution_count": 46,
   "metadata": {},
   "outputs": [
    {
     "name": "stdout",
     "output_type": "stream",
     "text": [
      "Month\n",
      "3     -50.00\n",
      "4    -100.00\n",
      "5     -25.00\n",
      "6    -181.64\n",
      "7    -117.59\n",
      "8    -638.92\n",
      "9     210.00\n",
      "10    171.05\n",
      "12    -80.63\n",
      "Name: Amount, dtype: float64\n"
     ]
    }
   ],
   "source": [
    "#Total unassigned resolution adjustments by month\n",
    "adjustments=data.query(\"\"\"Type in('Resolution Adjustment','Resolution Payout')\"\"\").groupby(['Month'])['Amount'].sum()\n",
    "print(adjustments) "
   ]
  }
 ],
 "metadata": {
  "kernelspec": {
   "display_name": "Python 2",
   "language": "python",
   "name": "python2"
  },
  "language_info": {
   "codemirror_mode": {
    "name": "ipython",
    "version": 2
   },
   "file_extension": ".py",
   "mimetype": "text/x-python",
   "name": "python",
   "nbconvert_exporter": "python",
   "pygments_lexer": "ipython2",
   "version": "2.7.10"
  }
 },
 "nbformat": 4,
 "nbformat_minor": 2
}
