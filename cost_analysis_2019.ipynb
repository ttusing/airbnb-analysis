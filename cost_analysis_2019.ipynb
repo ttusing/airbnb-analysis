{
 "cells": [
  {
   "cell_type": "code",
   "execution_count": 1,
   "metadata": {},
   "outputs": [],
   "source": [
    "import pandas as pd\n",
    "import numpy as np\n",
    "import datetime"
   ]
  },
  {
   "cell_type": "code",
   "execution_count": 2,
   "metadata": {},
   "outputs": [],
   "source": [
    "historical_data = pd.read_csv(\"csv_processed/hashed_data.csv\")\n",
    "room_crosswalk= pd.read_csv(\"csv_processed/listing_name_crosswalk.csv\")"
   ]
  },
  {
   "cell_type": "code",
   "execution_count": 3,
   "metadata": {},
   "outputs": [
    {
     "name": "stdout",
     "output_type": "stream",
     "text": [
      "   Unnamed: 0        Date         Type Confirmation Code  Start Date  Nights  \\\n",
      "0           0  03/04/2019       Payout               NaN         NaN     NaN   \n",
      "1           1  03/04/2019  Reservation        HM3FARRJMQ  03/03/2019     5.0   \n",
      "2           2  03/04/2019  Reservation        HMYHPEJZSQ  03/03/2019     3.0   \n",
      "3           3  03/03/2019  Reservation        HMPANYMCWT  03/02/2019     2.0   \n",
      "4           4  03/04/2019       Payout               NaN         NaN     NaN   \n",
      "\n",
      "                                           Listing                Details  \\\n",
      "0                                              NaN  Transfer to *****4871   \n",
      "1  Red Victorian - Private room w/sink, Tea Garden                    NaN   \n",
      "2    Red Victorian - Private room w bath, Sunshine                    NaN   \n",
      "3     Red Victorian - Private ensuite, Rose Garden                    NaN   \n",
      "4                                              NaN  Transfer to *****6485   \n",
      "\n",
      "   Reference Currency  Amount  Paid Out  Host Fee  Cleaning Fee  Linens fee  \\\n",
      "0        NaN      USD     NaN    254.31       NaN           NaN         NaN   \n",
      "1        NaN      USD  111.96       NaN      3.46          8.75         5.0   \n",
      "2        NaN      USD   69.84       NaN      2.16          7.00         4.0   \n",
      "3        NaN      USD   72.51       NaN      2.24          8.75         5.0   \n",
      "4        NaN      USD     NaN   1934.61       NaN           NaN         NaN   \n",
      "\n",
      "   Community fee                                  guest_name_sha256  \n",
      "0            NaN                                                NaN  \n",
      "1           8.75  ba15db961c60a70006ad872e59064558248333ad74d0df...  \n",
      "2           7.00  3c45c1e077504c26d96b49e571db198e6ac7500639bdff...  \n",
      "3           8.75  adc0f707a5bc3077fc64e54232d7f9206c291f6bf49286...  \n",
      "4            NaN                                                NaN  \n"
     ]
    }
   ],
   "source": [
    "print(historical_data.head())"
   ]
  },
  {
   "cell_type": "code",
   "execution_count": 4,
   "metadata": {
    "scrolled": true
   },
   "outputs": [
    {
     "name": "stdout",
     "output_type": "stream",
     "text": [
      "    Unnamed: 0        Date         Type Confirmation Code  Start Date  Nights  \\\n",
      "38          38  02/28/2019  Reservation        HM2Z3XNDB5  02/27/2019     2.0   \n",
      "39          39  02/27/2019  Reservation        HMEX5E4HRK  02/26/2019     3.0   \n",
      "40          40  02/24/2019  Reservation        HM5TXCTMRF  02/23/2019     1.0   \n",
      "46          46  02/28/2019       Payout               NaN         NaN     NaN   \n",
      "47          47  02/28/2019  Reservation        HMRRHYXTTJ  02/27/2019     1.0   \n",
      "\n",
      "                                              Listing                Details  \\\n",
      "38       Red Victorian - Private room -  Rainbow Room                    NaN   \n",
      "39  Red Victorian - Private suite w bath, Flower C...                    NaN   \n",
      "40  Red Victorian - Private room w loftbed, Butterfly                    NaN   \n",
      "46                                                NaN  Transfer to *****4871   \n",
      "47       Red Victorian - Private ensuite, Rose Garden                    NaN   \n",
      "\n",
      "    Reference Currency  ...   Cleaning Fee  Linens fee  Community fee  \\\n",
      "38        NaN      USD  ...           4.20         2.4            4.2   \n",
      "39        NaN      USD  ...           4.20         2.4            4.2   \n",
      "40        NaN      USD  ...           4.20         2.4            4.2   \n",
      "46        NaN      USD  ...            NaN         NaN            NaN   \n",
      "47        NaN      USD  ...          32.02         NaN            NaN   \n",
      "\n",
      "                                    guest_name_sha256  listing-name  \\\n",
      "38  034336918f8355fca322faa4450d97eaf0b81b54b45c22...  Rainbow Room   \n",
      "39  43f7166f0562cd874fcb0256f397a2658357a996d8f8f1...  Flower Child   \n",
      "40  82dcc3641a2995978c75ed4823340b2e35bfa16faf39bb...     Butterfly   \n",
      "46                                                NaN           NaN   \n",
      "47  981f404d5a9fa428ecaba86bc9303406b034f09e83d764...   Rose Garden   \n",
      "\n",
      "       room-name room-base-price room-type Month  Year  \n",
      "38  Rainbow Room          3470.0      room     2  2019  \n",
      "39  Flower Child          2940.0      room     2  2019  \n",
      "40     Butterfly          2940.0      room     2  2019  \n",
      "46           NaN             NaN       NaN     2  2019  \n",
      "47   Rose Garden          3470.0      room     2  2019  \n",
      "\n",
      "[5 rows x 23 columns]\n",
      "Unnamed: 0             int64\n",
      "Date                  object\n",
      "Type                  object\n",
      "Confirmation Code     object\n",
      "Start Date            object\n",
      "Nights               float64\n",
      "Listing               object\n",
      "Details               object\n",
      "Reference            float64\n",
      "Currency              object\n",
      "Amount               float64\n",
      "Paid Out             float64\n",
      "Host Fee             float64\n",
      "Cleaning Fee         float64\n",
      "Linens fee           float64\n",
      "Community fee        float64\n",
      "guest_name_sha256     object\n",
      "listing-name          object\n",
      "room-name             object\n",
      "room-base-price      float64\n",
      "room-type             object\n",
      "Month                  int64\n",
      "Year                   int64\n",
      "dtype: object\n",
      "['Reservation' 'Payout' 'Adjustment' 'Resolution Adjustment'\n",
      " 'Resolution Payout']\n"
     ]
    },
    {
     "name": "stderr",
     "output_type": "stream",
     "text": [
      "/Users/tt/.envs/jupyter-kX504egw/lib/python3.6/site-packages/ipykernel_launcher.py:7: UserWarning: Boolean Series key will be reindexed to match DataFrame index.\n",
      "  import sys\n"
     ]
    }
   ],
   "source": [
    "# Add in room names\n",
    "historical_data=historical_data.merge(room_crosswalk, how='left', on='Listing')\n",
    "\n",
    "# Month and Year columns added for accounting purposes\n",
    "historical_data['Month'] = historical_data.Date.apply(lambda dateCol: datetime.datetime.strptime(dateCol,'%m/%d/%Y').month)\n",
    "historical_data['Year'] = historical_data.Date.apply(lambda dateCol: datetime.datetime.strptime(dateCol,'%m/%d/%Y').year)\n",
    "data = historical_data[historical_data.Year == 2019][historical_data.Month < 3]\n",
    "\n",
    "print(data.head())\n",
    "print(data.dtypes)\n",
    "print(data.Type.unique())"
   ]
  },
  {
   "cell_type": "code",
   "execution_count": 5,
   "metadata": {},
   "outputs": [
    {
     "name": "stdout",
     "output_type": "stream",
     "text": [
      "Month\n",
      "1    46617.88\n",
      "2    44953.46\n",
      "Name: Paid Out, dtype: float64\n"
     ]
    }
   ],
   "source": [
    "# Total paid out by month\n",
    "total = data[data.Type == 'Payout']\n",
    "print(total.groupby('Month')['Paid Out'].sum())"
   ]
  },
  {
   "cell_type": "code",
   "execution_count": 6,
   "metadata": {},
   "outputs": [
    {
     "name": "stdout",
     "output_type": "stream",
     "text": [
      "Month        int64\n",
      "Listing     object\n",
      "Amount     float64\n",
      "dtype: object\n",
      "   Month                                            Listing  Amount\n",
      "0      1    Red Victorian - Air Bunk in shared Peacock Room  938.28\n",
      "1      1        Red Victorian - Bed  in shared Friends Room  408.57\n",
      "2      1  Red Victorian - Bunk #1 in shared Hole in the ...  238.62\n",
      "3      1      Red Victorian - Bunk #1 in shared Poster Room  757.18\n",
      "4      1  Red Victorian - Bunk #2 in shared Hole in the ...  569.20\n"
     ]
    }
   ],
   "source": [
    "# Gross hotel revenue by listing\n",
    "payouts = data[data.Type.isin(['Reservation','Adjustment'])].groupby(['Month','Listing']).agg({\"Amount\":np.sum}).reset_index()\n",
    "print(payouts.dtypes)\n",
    "print(payouts.head())\n",
    "payouts.to_csv('csv_export/gross_data_2019.csv')"
   ]
  },
  {
   "cell_type": "code",
   "execution_count": 7,
   "metadata": {},
   "outputs": [
    {
     "name": "stdout",
     "output_type": "stream",
     "text": [
      "       Amount\n",
      "Month        \n",
      "1     -283.33\n",
      "2     -534.99\n"
     ]
    }
   ],
   "source": [
    "# Total unassigned resolution adjustments by month\n",
    "adjustments = data[data.Type.isin(['Resolution Adjustment','Resolution Payout'])].groupby('Month').agg({\"Amount\": np.sum})\n",
    "print(adjustments)"
   ]
  },
  {
   "cell_type": "code",
   "execution_count": 8,
   "metadata": {},
   "outputs": [
    {
     "name": "stdout",
     "output_type": "stream",
     "text": [
      "       Listing\n",
      "Month         \n",
      "1           32\n",
      "2           29\n",
      "       Amount  Listing  Amount Per Listing\n",
      "Month                                     \n",
      "1     -283.33       32               -8.85\n",
      "2     -534.99       29              -18.45\n",
      "       Amount Per Listing\n",
      "Month                    \n",
      "1                   -8.85\n",
      "2                  -18.45\n"
     ]
    }
   ],
   "source": [
    "# Distribute unassigned resolution adjustments by month by rooms listed that month\n",
    "rooms_per_month = payouts.groupby('Month').agg({\"Listing\": pd.Series.nunique})\n",
    "print(rooms_per_month)\n",
    "\n",
    "type(rooms_per_month)\n",
    "\n",
    "monthly_distribution = pd.merge(adjustments, rooms_per_month, on='Month')\n",
    "monthly_distribution['Amount Per Listing'] = (monthly_distribution.Amount / monthly_distribution.Listing).round(2)\n",
    "print(monthly_distribution)\n",
    "\n",
    "monthly_distribution = monthly_distribution.drop(['Amount', 'Listing'], axis=1)\n",
    "print(monthly_distribution)"
   ]
  },
  {
   "cell_type": "code",
   "execution_count": 9,
   "metadata": {},
   "outputs": [
    {
     "name": "stdout",
     "output_type": "stream",
     "text": [
      "       room-name  Month room-type   Amount  room-base-price\n",
      "0      Butterfly      1      room  1631.54           2940.0\n",
      "1      Butterfly      2      room  1633.70           2940.0\n",
      "2  Earth Charter      1      room  2111.98           2940.0\n",
      "3  Earth Charter      2      room  1763.07           2940.0\n",
      "4   Flower Child      1      room  3006.52           2940.0\n"
     ]
    }
   ],
   "source": [
    "# Create new data frame to hold adjustments for listings\n",
    "adjusted_payouts = payouts.merge(monthly_distribution, how='left', on='Month')\n",
    "adjusted_payouts = adjusted_payouts.fillna(0)\n",
    "adjusted_payouts['Adjusted Amount'] = adjusted_payouts.Amount + adjusted_payouts['Amount Per Listing']\n",
    "\n",
    "adjusted_payouts = adjusted_payouts.drop('Amount Per Listing', axis=1)\n",
    "\n",
    "# Round amounts to 2 decimal points for dollars and cents (0.00)\n",
    "adjusted_payouts = adjusted_payouts.round(2)\n",
    "\n",
    "# Sum by Room\n",
    "adjusted_payouts_by_room=adjusted_payouts.merge(room_crosswalk, how=\"left\", on=\"Listing\")\n",
    "adjusted_payouts_by_room=adjusted_payouts_by_room.groupby([\"room-name\",\"Month\",\"room-type\"]).agg(\n",
    "    {\"Amount\":np.sum, \"room-base-price\":np.max}\n",
    ").reset_index()\n",
    "adjusted_payouts_by_room=adjusted_payouts_by_room.round(2)\n",
    "\n",
    "print(adjusted_payouts_by_room.head())"
   ]
  },
  {
   "cell_type": "code",
   "execution_count": 20,
   "metadata": {},
   "outputs": [
    {
     "name": "stdout",
     "output_type": "stream",
     "text": [
      "       room-name  Month room-type   Amount  room-base-price  \\\n",
      "0      Butterfly      1      room  1631.54           2940.0   \n",
      "1      Butterfly      2      room  1633.70           2940.0   \n",
      "2  Earth Charter      1      room  2111.98           2940.0   \n",
      "3  Earth Charter      2      room  1763.07           2940.0   \n",
      "4   Flower Child      1      room  3006.52           2940.0   \n",
      "\n",
      "   private-room-factor  bunk-factor  expected_for_month  pct_of_expected  \n",
      "0                0.612        0.450             1799.28         0.906774  \n",
      "1                0.628        0.606             1846.32         0.884841  \n",
      "2                0.612        0.450             1799.28         1.173792  \n",
      "3                0.628        0.606             1846.32         0.954910  \n",
      "4                0.612        0.450             1799.28         1.670957  \n"
     ]
    }
   ],
   "source": [
    "# add in seasonality factors\n",
    "seasonality= pd.read_csv(\"csv_processed/seasonality-factors.csv\")\n",
    "\n",
    "def calcExpected(row):\n",
    "    if row['room-type'] == 'room':\n",
    "        return row[\"room-base-price\"]*row[\"private-room-factor\"]\n",
    "    else:\n",
    "        return row[\"room-base-price\"]*row[\"bunk-factor\"]\n",
    "\n",
    "room_seasonality=adjusted_payouts_by_room.merge(seasonality,how='left',on='Month')\n",
    "room_seasonality[\"expected_for_month\"]=room_seasonality.apply(calcExpected,axis=1)\n",
    "room_seasonality[\"pct_of_expected\"]=room_seasonality[\"Amount\"]/room_seasonality[\"expected_for_month\"]\n",
    "\n",
    "print(room_seasonality.head())\n",
    "\n",
    "#payouts_with_base=adjusted_payouts_by_room.merge(seasonality,how='left',on={'Month',''})"
   ]
  },
  {
   "cell_type": "code",
   "execution_count": 21,
   "metadata": {},
   "outputs": [],
   "source": [
    "# Save adjusted payouts to new csv file\n",
    "room_seasonality.to_csv('csv_export/adjusted_payouts_2019.csv')"
   ]
  }
 ],
 "metadata": {
  "kernelspec": {
   "display_name": "Python 3",
   "language": "python",
   "name": "python3"
  },
  "language_info": {
   "codemirror_mode": {
    "name": "ipython",
    "version": 3
   },
   "file_extension": ".py",
   "mimetype": "text/x-python",
   "name": "python",
   "nbconvert_exporter": "python",
   "pygments_lexer": "ipython3",
   "version": "3.6.3"
  }
 },
 "nbformat": 4,
 "nbformat_minor": 2
}
